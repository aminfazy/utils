{
 "cells": [
  {
   "cell_type": "code",
   "execution_count": 1,
   "metadata": {},
   "outputs": [],
   "source": [
    "import numpy as np\n",
    "import cv2\n",
    "import glob\n",
    "import pdb\n",
    "from matplotlib import pyplot as plt\n",
    "# termination criteria\n",
    "criteria = (cv2.TERM_CRITERIA_EPS + cv2.TERM_CRITERIA_MAX_ITER, 30, 0.001)\n",
    "\n",
    "# prepare object points, like (0,0,0), (1,0,0), (2,0,0) ....,(6,5,0)\n",
    "objp = np.zeros((9*7,3), np.float32)\n",
    "objp[:,:2] = np.mgrid[0:7,0:9].T.reshape(-1,2)\n",
    "\n",
    "# Arrays to store object points and image points from all the images.\n",
    "objpoints = [] # 3d point in real world space\n",
    "imgpoints = [] # 2d points in image plane.\n",
    "\n",
    "images = glob.glob('cal1.jpg')\n",
    "for fname in images:\n",
    "    img = cv2.imread(fname)\n",
    "    gray = cv2.cvtColor(img,cv2.COLOR_BGR2GRAY)\n",
    "\n",
    "    # Find the chess board corners\n",
    "    ret, corners = cv2.findChessboardCorners(gray, (7,9),None)\n",
    "#     pdb.set_trace()\n",
    "    # If found, add object points, image points (after refining them)\n",
    "    if ret == True:\n",
    "        objpoints.append(objp)\n",
    "\n",
    "        corners2 = cv2.cornerSubPix(gray,corners,(11,11),(-1,-1),criteria)\n",
    "        imgpoints.append(corners2)\n",
    "\n",
    "        # Draw and display the corners\n",
    "        img = cv2.drawChessboardCorners(img, (7,6), corners2,ret)\n",
    "        cv2.imwrite('cal_board.png',img)\n",
    "#         plt.imshow(img)\n",
    "#         plt.show()\n",
    "#         cv2.imshow('img',img)\n",
    "#         cv2.waitKey(500)\n",
    "#         pdb.set_trace()\n",
    "# cv2.destroyAllWindows()"
   ]
  },
  {
   "cell_type": "code",
   "execution_count": 2,
   "metadata": {},
   "outputs": [],
   "source": [
    "ret, mtx, dist, rvecs, tvecs = cv2.calibrateCamera(objpoints, imgpoints, gray.shape[::-1],None,None)\n"
   ]
  },
  {
   "cell_type": "code",
   "execution_count": 3,
   "metadata": {},
   "outputs": [
    {
     "name": "stdout",
     "output_type": "stream",
     "text": [
      "298\n"
     ]
    }
   ],
   "source": [
    "img = cv2.imread('Current_frame.jpg')\n",
    "h,  w = img.shape[:2]\n",
    "newcameramtx, roi=cv2.getOptimalNewCameraMatrix(mtx,dist,(w,h),1,(w,h))\n",
    "print(h)"
   ]
  },
  {
   "cell_type": "code",
   "execution_count": 4,
   "metadata": {},
   "outputs": [
    {
     "name": "stdout",
     "output_type": "stream",
     "text": [
      "(40, 32, 239, 235)\n",
      "[[[  3   8  13]\n",
      "  [  4  14  22]\n",
      "  [  6  17  26]\n",
      "  ...\n",
      "  [ 44  75  90]\n",
      "  [ 45  76  91]\n",
      "  [ 47  76  91]]\n",
      "\n",
      " [[  4  12  19]\n",
      "  [  6  16  25]\n",
      "  [  3  15  24]\n",
      "  ...\n",
      "  [ 56  82  98]\n",
      "  [ 57  82  98]\n",
      "  [ 59  82  99]]\n",
      "\n",
      " [[  8  15  22]\n",
      "  [  9  20  27]\n",
      "  [  7  18  25]\n",
      "  ...\n",
      "  [ 56  78  93]\n",
      "  [ 58  78  93]\n",
      "  [ 58  78  92]]\n",
      "\n",
      " ...\n",
      "\n",
      " [[138 165 199]\n",
      "  [137 164 198]\n",
      "  [137 164 198]\n",
      "  ...\n",
      "  [127 152 178]\n",
      "  [133 158 184]\n",
      "  [137 162 188]]\n",
      "\n",
      " [[138 165 199]\n",
      "  [137 164 198]\n",
      "  [137 164 198]\n",
      "  ...\n",
      "  [126 151 177]\n",
      "  [131 156 182]\n",
      "  [133 158 184]]\n",
      "\n",
      " [[137 164 198]\n",
      "  [137 164 198]\n",
      "  [137 164 198]\n",
      "  ...\n",
      "  [126 151 177]\n",
      "  [133 158 184]\n",
      "  [137 162 188]]]\n"
     ]
    },
    {
     "data": {
      "text/plain": [
       "True"
      ]
     },
     "execution_count": 4,
     "metadata": {},
     "output_type": "execute_result"
    }
   ],
   "source": [
    "# undistort\n",
    "dst = cv2.undistort(img, mtx, dist, None, newcameramtx)\n",
    "print(roi)\n",
    "# crop the image\n",
    "x,y,w,h = roi\n",
    "dst = dst[y:y+h, x:x+w]\n",
    "print(dst)\n",
    "cv2.imwrite('Current_frame_dist.png',dst)"
   ]
  },
  {
   "cell_type": "code",
   "execution_count": null,
   "metadata": {},
   "outputs": [],
   "source": []
  }
 ],
 "metadata": {
  "kernelspec": {
   "display_name": "Python 2",
   "language": "python",
   "name": "python2"
  },
  "language_info": {
   "codemirror_mode": {
    "name": "ipython",
    "version": 2
   },
   "file_extension": ".py",
   "mimetype": "text/x-python",
   "name": "python",
   "nbconvert_exporter": "python",
   "pygments_lexer": "ipython2",
   "version": "2.7.16"
  }
 },
 "nbformat": 4,
 "nbformat_minor": 2
}
